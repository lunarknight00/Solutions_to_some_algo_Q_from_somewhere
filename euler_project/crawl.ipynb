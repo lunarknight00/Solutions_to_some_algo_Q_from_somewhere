{
 "cells": [
  {
   "cell_type": "code",
   "execution_count": 1,
   "metadata": {},
   "outputs": [],
   "source": [
    "from requests import get\n",
    "from bs4 import BeautifulSoup"
   ]
  },
  {
   "cell_type": "code",
   "execution_count": 3,
   "metadata": {},
   "outputs": [],
   "source": [
    "base = \"https://www.projecteuler.net/\"\n",
    "problem = \"problem=\"\n",
    "page = get(base + problem +\"1\")\n",
    "soup = BeautifulSoup(page.text,\"html.parser\")"
   ]
  },
  {
   "cell_type": "code",
   "execution_count": 4,
   "metadata": {},
   "outputs": [
    {
     "data": {
      "text/plain": [
       "<!DOCTYPE html>\n",
       "\n",
       "<html lang=\"en\">\n",
       "<head>\n",
       "<meta charset=\"utf-8\"/>\n",
       "<meta content=\"Colin Hughes\" name=\"author\"/>\n",
       "<meta content=\"A website dedicated to the fascinating world of mathematics and programming\" name=\"description\"/>\n",
       "<meta content=\"programming,mathematics,problems,puzzles\" name=\"keywords\"/>\n",
       "<meta content=\"width=device-width, initial-scale=1\" name=\"viewport\"/>\n",
       "<title>Problem 1 - Project Euler</title>\n",
       "<link href=\"favicon.ico\" rel=\"shortcut icon\"/>\n",
       "<link href=\"themes/20190820/style_main.css\" rel=\"stylesheet\" type=\"text/css\"/>\n",
       "<link href=\"themes/20190820/style_default.css\" rel=\"stylesheet\" type=\"text/css\"/>\n",
       "<script type=\"text/x-mathjax-config\">\n",
       "   MathJax.Hub.Config({\n",
       "      jax: [\"input/TeX\", \"output/HTML-CSS\"],\n",
       "      tex2jax: {\n",
       "         inlineMath: [ [\"$\",\"$\"], [\"\\\\(\",\"\\\\)\"] ],\n",
       "         displayMath: [ [\"$$\",\"$$\"], [\"\\\\[\",\"\\\\]\"] ],\n",
       "         processEscapes: true\n",
       "      },\n",
       "      \"HTML-CSS\": { availableFonts: [\"TeX\"] }\n",
       "   });\n",
       "</script>\n",
       "<script async=\"\" src=\"https://cdnjs.cloudflare.com/ajax/libs/mathjax/2.7.4/MathJax.js?config=TeX-AMS_HTML-full,Safe\"></script></head>\n",
       "<body>\n",
       "<div id=\"container\">\n",
       "<div class=\"noprint\" id=\"header\">\n",
       "<img alt=\"\" src=\"themes/20190820/logo_default.png\"/>\n",
       "<div id=\"info_panel\"><a href=\"search\"><img alt=\"Search Problems\" src=\"images/icon_search.png\" title=\"Search Problems\"/></a><a href=\"rss2_euler.xml\"><img alt=\"RSS Feed\" src=\"images/icon_rss.png\" title=\"RSS Feed\"/></a></div></div>\n",
       "<div class=\"noprint\">\n",
       "<div class=\"nav\" id=\"navigation\">\n",
       "<a accesskey=\"h\" href=\"about\" title=\"About\">About</a>\n",
       "<a accesskey=\"1\" href=\"archives\" id=\"current\" title=\"Archives\">Archives</a>\n",
       "<a accesskey=\"2\" href=\"recent\" title=\"Recent\">Recent</a>\n",
       "<a accesskey=\"3\" href=\"news\" title=\"News\">News</a>\n",
       "<a accesskey=\"4\" href=\"register\" title=\"Register\">Register</a>\n",
       "<a accesskey=\"5\" href=\"sign_in\" title=\"Sign In\">Sign In</a>\n",
       "<a class=\"hamburger\" href=\"javascript:void(0);\" id=\"hamburger\" onclick=\"toggle_menu_collapse()\">\n",
       "<div class=\"bar\"></div>\n",
       "<div class=\"bar\"></div>\n",
       "<div class=\"bar\"></div>\n",
       "</a>\n",
       "</div>\n",
       "</div>\n",
       "<div id=\"content\">\n",
       "<div class=\"print\" style=\"text-align:center;\"><img alt=\"projecteuler.net\" src=\"images/print_page_logo.png\" style=\"border:none;\"/></div>\n",
       "<h2>Multiples of 3 and 5</h2><div style=\"float:right;\"><span class=\"info noprint\"><img src=\"images/icon_info.png\" style=\"width:18px;opacity:0.7;\"/><span style=\"left:-450px;width:450px;top:30px;\">Published on Friday, 5th October 2001, 06:00 pm; Solved by 886932;<br/>Difficulty rating: 5%</span></span></div><div id=\"problem_info\"><h3>Problem 1</h3></div>\n",
       "<div class=\"problem_content\" role=\"problem\">\n",
       "<p>If we list all the natural numbers below 10 that are multiples of 3 or 5, we get 3, 5, 6 and 9. The sum of these multiples is 23.</p>\n",
       "<p>Find the sum of all the multiples of 3 or 5 below 1000.</p>\n",
       "</div><br/>\n",
       "<br/></div>\n",
       "</div>\n",
       "<div class=\"noprint\" id=\"footer\">\n",
       "Project Euler: <a href=\"copyright\">Copyright Information</a> | <a href=\"privacy\">Privacy Policy</a>\n",
       "<!--/Creative Commons License--><!-- <rdf:RDF xmlns=\"http://web.resource.org/cc/\" xmlns:dc=\"http://purl.org/dc/elements/1.1/\" xmlns:rdf=\"http://www.w3.org/1999/02/22-rdf-syntax-ns#\" xmlns:rdfs=\"http://www.w3.org/2000/01/rdf-schema#\">\n",
       "   <Work rdf:about=\"\">\n",
       "      <license rdf:resource=\"http://creativecommons.org/licenses/by-nc-sa/2.0/uk/\" />\n",
       "   <dc:type rdf:resource=\"http://purl.org/dc/dcmitype/Text\" />\n",
       "   </Work>\n",
       "   <License rdf:about=\"http://creativecommons.org/licenses/by-nc-sa/2.0/uk/\"><permits rdf:resource=\"http://web.resource.org/cc/Reproduction\"/><permits rdf:resource=\"http://web.resource.org/cc/Distribution\"/><requires rdf:resource=\"http://web.resource.org/cc/Notice\"/><requires rdf:resource=\"http://web.resource.org/cc/Attribution\"/><prohibits rdf:resource=\"http://web.resource.org/cc/CommercialUse\"/><permits rdf:resource=\"http://web.resource.org/cc/DerivativeWorks\"/><requires rdf:resource=\"http://web.resource.org/cc/ShareAlike\"/></License></rdf:RDF> -->\n",
       "</div>\n",
       "<script>\n",
       "function toggle_menu_collapse() {\n",
       "   var obj = document.getElementById(\"navigation\");\n",
       "   if (obj.className === \"nav\") {\n",
       "      obj.className += \" responsive\";\n",
       "   } else {\n",
       "      obj.className = \"nav\";\n",
       "   }\n",
       "}\n",
       "</script>\n",
       "</body>\n",
       "</html>"
      ]
     },
     "execution_count": 4,
     "metadata": {},
     "output_type": "execute_result"
    }
   ],
   "source": [
    "soup"
   ]
  },
  {
   "cell_type": "code",
   "execution_count": 29,
   "metadata": {},
   "outputs": [
    {
     "name": "stdout",
     "output_type": "stream",
     "text": [
      "[<p>If we list all the natural numbers below 10 that are multiples of 3 or 5, we get 3, 5, 6 and 9. The sum of these multiples is 23.</p>, <p>Find the sum of all the multiples of 3 or 5 below 1000.</p>]\n"
     ]
    }
   ],
   "source": [
    "print(soup.find(\"div\",{\"class\":\"problem_content\"}).find_all(\"p\"))#.get_text().strip())"
   ]
  },
  {
   "cell_type": "code",
   "execution_count": 33,
   "metadata": {},
   "outputs": [
    {
     "data": {
      "text/plain": [
       "' If we list all the natural numbers below 10 that are multiples of 3 or 5, we get 3, 5, 6 and 9. The sum of these multiples is 23.\\n\\n Find the sum of all the multiples of 3 or 5 below 1000.'"
      ]
     },
     "execution_count": 33,
     "metadata": {},
     "output_type": "execute_result"
    }
   ],
   "source": [
    "import html2markdown\n",
    "string = \"\".join(s.prettify() for s in soup.find(\"div\",{\"class\":\"problem_content\"}).find_all(\"p\"))\n",
    "html2markdown.convert(string)\n",
    "# string.prettify()\n",
    "# html2markdown.convert('<p>If we list all the natural numbers below 10 that are multiples of 3 or 5, we get 3, 5, 6 and 9. The sum of these multiples is 23.</p><p>Find the sum of all the multiples of 3 or 5 below 1000.</p>')"
   ]
  }
 ],
 "metadata": {
  "kernelspec": {
   "display_name": "Python 3",
   "language": "python",
   "name": "python3"
  },
  "language_info": {
   "codemirror_mode": {
    "name": "ipython",
    "version": 3
   },
   "file_extension": ".py",
   "mimetype": "text/x-python",
   "name": "python",
   "nbconvert_exporter": "python",
   "pygments_lexer": "ipython3",
   "version": "3.7.3"
  }
 },
 "nbformat": 4,
 "nbformat_minor": 2
}
